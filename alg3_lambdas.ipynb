{
 "cells": [
  {
   "cell_type": "markdown",
   "metadata": {},
   "source": [
    "Surface coverage of each species under various lambda in algorithm 3 (tau_max = 10^-8)"
   ]
  },
  {
   "cell_type": "code",
   "execution_count": null,
   "metadata": {},
   "outputs": [],
   "source": [
    "%matplotlib inline\n",
    "import os\n",
    "import matplotlib.pyplot as plt\n",
    "# plt.rc('text', usetex=True)\n",
    "from arguments import get_args\n",
    "args = get_args()\n",
    "algo=\"alg3\"\n",
    "lambda_list = [\"ssa\", \"0.001\", \"0.01\", \"0.1\", \"1.0\", \"10.0\", \"100.0\"] # lambdas\n",
    "datapath = \"alg3_lambdas_data/\"\n",
    "savepath = \"24_2_13_alg3_lambdas/\"\n",
    "if not os.path.exists(savepath):\n",
    "    os.makedirs(savepath)"
   ]
  },
  {
   "cell_type": "markdown",
   "metadata": {},
   "source": [
    "plot coverage vs. time for each species and lambdas"
   ]
  },
  {
   "cell_type": "code",
   "execution_count": null,
   "metadata": {},
   "outputs": [],
   "source": [
    "for specie_idx in range(len(args.sim.species_names)):\n",
    "    if args.sim._init_state[specie_idx] == 0: # ignore species that cannot stay on the surface\n",
    "        continue\n",
    "\n",
    "    for lbd in lambda_list: # for each lambda\n",
    "        path = os.path.join(datapath, f\"alg3_lambda_{lbd}\")\n",
    "        \n",
    "        file_name = os.path.join(path, f\"{algo}_size_{args.lattice_size}_sample_{args.num_samples}_{args.sim.species_names[specie_idx]}.txt\")\n",
    "\n",
    "        with open(file_name, 'r') as file:\n",
    "            lines = file.readlines()\n",
    "\n",
    "        for i, line in enumerate(lines): # read the list of coverages from file\n",
    "            if \"res in list\" in line:\n",
    "                list_line = lines[i+1]\n",
    "                break\n",
    "        try:\n",
    "            result_list = eval(list_line)\n",
    "        except Exception as e:\n",
    "            print(f\"error when evaluating list: {e}\")\n",
    "\n",
    "        for i, line in enumerate(lines): # read the list of timestamps from file\n",
    "            if \"time stamps in list\" in line:\n",
    "                list_line = lines[i+1]\n",
    "                break\n",
    "        try:\n",
    "            timestamp_list = eval(list_line)\n",
    "            # print(timestamp_list)\n",
    "        except Exception as e:\n",
    "            print(f\"error when evaluating list: {e}\")\n",
    "\n",
    "\n",
    "        plt.plot(timestamp_list, result_list, label=\"$\\lambda$=\"+lbd) # plot iteratively for each lambda\n",
    "\n",
    "    plt.legend()\n",
    "    sp_name = args.sim.species_names[specie_idx]\n",
    "    sp_name = sp_name[:-2] if sp_name.endswith(\"_s\") else sp_name\n",
    "\n",
    "    # zoom in if necessary\n",
    "    if sp_name == \"E\":\n",
    "        plt.ylim(0.7, 0.75)\n",
    "        plt.xlim(0.000004, 0.00000575)\n",
    "    elif sp_name == \"H\":\n",
    "        plt.ylim(0.08, 0.1)\n",
    "        plt.xlim(0.0000014, 0.0000016)\n",
    "    elif sp_name == \"N\":\n",
    "        plt.ylim(0.01, 0.05)\n",
    "        plt.xlim(0.0000004, 0.0000016)\n",
    "\n",
    "    plt.title(f\"{sp_name} Surface Coverage Under Various $\\lambda$\")\n",
    "    plt.xlabel(\"Time (s)\")\n",
    "    plt.ylabel(\"Coverage\")\n",
    "    plt.savefig(os.path.join(savepath, f\"{sp_name}_lambdas.pdf\"))\n",
    "    plt.show()\n",
    "    plt.clf()"
   ]
  }
 ],
 "metadata": {
  "kernelspec": {
   "display_name": "ssa",
   "language": "python",
   "name": "python3"
  },
  "language_info": {
   "codemirror_mode": {
    "name": "ipython",
    "version": 3
   },
   "file_extension": ".py",
   "mimetype": "text/x-python",
   "name": "python",
   "nbconvert_exporter": "python",
   "pygments_lexer": "ipython3",
   "version": "3.9.0"
  }
 },
 "nbformat": 4,
 "nbformat_minor": 2
}
